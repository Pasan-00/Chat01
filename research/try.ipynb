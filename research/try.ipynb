{
 "cells": [
  {
   "cell_type": "code",
   "execution_count": 1,
   "id": "adc02e31-fa93-4411-9255-ec981d040a70",
   "metadata": {
    "scrolled": true
   },
   "outputs": [
    {
     "name": "stdout",
     "output_type": "stream",
     "text": [
      "ok\n"
     ]
    }
   ],
   "source": [
    "print (\"ok\")"
   ]
  },
  {
   "cell_type": "code",
   "execution_count": 2,
   "id": "4551d753-af12-4023-b403-579b2daefb62",
   "metadata": {},
   "outputs": [],
   "source": [
    "import os\n",
    "os.chdir(\"../\")"
   ]
  },
  {
   "cell_type": "code",
   "execution_count": 3,
   "id": "5b1fe498-7e7e-4dee-8ca0-a1811f1b6f27",
   "metadata": {},
   "outputs": [
    {
     "data": {
      "text/plain": [
       "'C:\\\\Users\\\\AD ICT\\\\Desktop\\\\Document\\\\chat01\\\\Chat01'"
      ]
     },
     "execution_count": 3,
     "metadata": {},
     "output_type": "execute_result"
    }
   ],
   "source": [
    "%pwd"
   ]
  },
  {
   "cell_type": "code",
   "execution_count": 4,
   "id": "774e7c54-2944-4538-a31c-49b46f7fd0f6",
   "metadata": {},
   "outputs": [],
   "source": [
    "from langchain.document_loaders import PyPDFLoader, DirectoryLoader\n",
    "from langchain.text_splitter import RecursiveCharacterTextSplitter"
   ]
  },
  {
   "cell_type": "code",
   "execution_count": 5,
   "id": "211b6c3a-f9af-48f3-a9e6-b8a887e47cac",
   "metadata": {},
   "outputs": [],
   "source": [
    "def load_pdf_file(data):\n",
    "    loader = DirectoryLoader(data,\n",
    "                             glob=\"OurVision.pdf\",\n",
    "                             loader_cls=PyPDFLoader)\n",
    "\n",
    "    documents=loader.load()\n",
    "\n",
    "    return documents"
   ]
  },
  {
   "cell_type": "code",
   "execution_count": 6,
   "id": "9197c55a-7387-470f-b11c-c46bba2ed10f",
   "metadata": {},
   "outputs": [],
   "source": [
    "extracted_data=load_pdf_file(data='Data/')"
   ]
  },
  {
   "cell_type": "code",
   "execution_count": 7,
   "id": "fc95a19c-3518-420b-a7b7-224d12c0ff98",
   "metadata": {},
   "outputs": [],
   "source": [
    "def text_split(extracted_data):\n",
    "    text_splitter = RecursiveCharacterTextSplitter(chunk_size=500, chunk_overlap=20)\n",
    "    text_chunks = text_splitter.split_documents(extracted_data)\n",
    "    return text_chunks"
   ]
  },
  {
   "cell_type": "code",
   "execution_count": 8,
   "id": "f110a545-b5e2-4194-940f-a7592d47adbc",
   "metadata": {},
   "outputs": [
    {
     "name": "stdout",
     "output_type": "stream",
     "text": [
      "Length os Text Chunks 11\n"
     ]
    }
   ],
   "source": [
    "text_chunks=text_split(extracted_data)\n",
    "print(\"Length os Text Chunks\", len(text_chunks))"
   ]
  },
  {
   "cell_type": "code",
   "execution_count": 9,
   "id": "ac27f2c6-e77c-475c-90d1-6a9725d90516",
   "metadata": {},
   "outputs": [],
   "source": [
    "from langchain.embeddings import HuggingFaceEmbeddings"
   ]
  },
  {
   "cell_type": "code",
   "execution_count": 10,
   "id": "40f72b56-d48e-40f2-962b-ac9258fd71fb",
   "metadata": {},
   "outputs": [],
   "source": [
    "def download_hugging_face_embeddings():\n",
    "    embeddings=HuggingFaceEmbeddings(model_name='sentence-transformers/all-MiniLM-L6-v2')\n",
    "    return embeddings"
   ]
  },
  {
   "cell_type": "code",
   "execution_count": 11,
   "id": "71121470-0b4e-42d6-9e41-8f09c3bc57d1",
   "metadata": {},
   "outputs": [
    {
     "name": "stderr",
     "output_type": "stream",
     "text": [
      "C:\\Users\\AD ICT\\AppData\\Local\\Temp\\ipykernel_2064\\4043855499.py:2: LangChainDeprecationWarning: The class `HuggingFaceEmbeddings` was deprecated in LangChain 0.2.2 and will be removed in 1.0. An updated version of the class exists in the :class:`~langchain-huggingface package and should be used instead. To use it run `pip install -U :class:`~langchain-huggingface` and import as `from :class:`~langchain_huggingface import HuggingFaceEmbeddings``.\n",
      "  embeddings=HuggingFaceEmbeddings(model_name='sentence-transformers/all-MiniLM-L6-v2')\n",
      "C:\\Users\\AD ICT\\miniconda3\\envs\\chatbot1\\Lib\\site-packages\\tqdm\\auto.py:21: TqdmWarning: IProgress not found. Please update jupyter and ipywidgets. See https://ipywidgets.readthedocs.io/en/stable/user_install.html\n",
      "  from .autonotebook import tqdm as notebook_tqdm\n",
      "C:\\Users\\AD ICT\\miniconda3\\envs\\chatbot1\\Lib\\site-packages\\transformers\\utils\\generic.py:441: FutureWarning: `torch.utils._pytree._register_pytree_node` is deprecated. Please use `torch.utils._pytree.register_pytree_node` instead.\n",
      "  _torch_pytree._register_pytree_node(\n",
      "Downloading model_qint8_arm64.onnx: 100%|█████████████████████████████████████████| 23.0M/23.0M [00:04<00:00, 4.63MB/s]\n",
      "Downloading model_qint8_arm64.onnx: 100%|█████████████████████████████████████████| 23.0M/23.0M [00:06<00:00, 3.81MB/s]\n",
      "Downloading model_quint8_avx2.onnx: 100%|█████████████████████████████████████████| 23.0M/23.0M [00:04<00:00, 5.38MB/s]\n",
      "Downloading openvino_model.bin: 100%|█████████████████████████████████████████████| 90.3M/90.3M [00:17<00:00, 5.09MB/s]\n",
      "Downloading openvino_model.xml: 100%|████████████████████████████████████████████████| 211k/211k [00:00<00:00, 911kB/s]\n",
      "Downloading (…)_qint8_quantized.bin: 100%|████████████████████████████████████████| 22.9M/22.9M [00:04<00:00, 5.23MB/s]\n",
      "Downloading (…)_qint8_quantized.xml: 100%|██████████████████████████████████████████| 368k/368k [00:00<00:00, 3.45MB/s]\n",
      "Downloading pytorch_model.bin: 100%|██████████████████████████████████████████████| 90.9M/90.9M [00:17<00:00, 5.31MB/s]\n",
      "Downloading (…)nce_bert_config.json: 100%|██████████████████████████████████████████| 53.0/53.0 [00:00<00:00, 13.2kB/s]\n",
      "Downloading (…)cial_tokens_map.json: 100%|█████████████████████████████████████████████| 112/112 [00:00<00:00, 120kB/s]\n",
      "Downloading tokenizer.json: 100%|███████████████████████████████████████████████████| 466k/466k [00:00<00:00, 6.32MB/s]\n",
      "Downloading tokenizer_config.json: 100%|███████████████████████████████████████████████| 350/350 [00:00<00:00, 683kB/s]\n",
      "Downloading train_script.py: 100%|████████████████████████████████████████████████| 13.2k/13.2k [00:00<00:00, 3.29MB/s]\n",
      "Downloading vocab.txt: 100%|█████████████████████████████████████████████████████████| 232k/232k [00:00<00:00, 925kB/s]\n",
      "Downloading modules.json: 100%|████████████████████████████████████████████████████████| 349/349 [00:00<00:00, 343kB/s]\n",
      "C:\\Users\\AD ICT\\miniconda3\\envs\\chatbot1\\Lib\\site-packages\\transformers\\utils\\generic.py:309: FutureWarning: `torch.utils._pytree._register_pytree_node` is deprecated. Please use `torch.utils._pytree.register_pytree_node` instead.\n",
      "  _torch_pytree._register_pytree_node(\n"
     ]
    }
   ],
   "source": [
    "embeddings=download_hugging_face_embeddings()"
   ]
  },
  {
   "cell_type": "code",
   "execution_count": 13,
   "id": "56e3e7a0-46f2-4a84-8ccb-e1e123407c11",
   "metadata": {},
   "outputs": [
    {
     "name": "stdout",
     "output_type": "stream",
     "text": [
      "length 384\n"
     ]
    }
   ],
   "source": [
    "query_result = embeddings.embed_query(\"Hello world\")\n",
    "print(\"length\", len(query_result))"
   ]
  },
  {
   "cell_type": "code",
   "execution_count": 15,
   "id": "310707ee-4eb5-4d4f-9750-a2956cbe5e6f",
   "metadata": {},
   "outputs": [],
   "source": [
    "#query_result\n"
   ]
  },
  {
   "cell_type": "code",
   "execution_count": 16,
   "id": "bb6bd486-9b5a-4880-8e93-15a70dbbce38",
   "metadata": {},
   "outputs": [
    {
     "ename": "NameError",
     "evalue": "name 'PINECONE_API_KEY' is not defined",
     "output_type": "error",
     "traceback": [
      "\u001b[31m---------------------------------------------------------------------------\u001b[39m",
      "\u001b[31mNameError\u001b[39m                                 Traceback (most recent call last)",
      "\u001b[36mCell\u001b[39m\u001b[36m \u001b[39m\u001b[32mIn[16]\u001b[39m\u001b[32m, line 5\u001b[39m\n\u001b[32m      2\u001b[39m \u001b[38;5;28;01mfrom\u001b[39;00m\u001b[38;5;250m \u001b[39m\u001b[34;01mpinecone\u001b[39;00m\u001b[38;5;250m \u001b[39m\u001b[38;5;28;01mimport\u001b[39;00m ServerlessSpec\n\u001b[32m      3\u001b[39m \u001b[38;5;28;01mimport\u001b[39;00m\u001b[38;5;250m \u001b[39m\u001b[34;01mos\u001b[39;00m\n\u001b[32m----> \u001b[39m\u001b[32m5\u001b[39m pc = Pinecone(api_key=\u001b[43mPINECONE_API_KEY\u001b[49m)\n\u001b[32m      7\u001b[39m index_name = \u001b[33m\"\u001b[39m\u001b[33mtest\u001b[39m\u001b[33m\"\u001b[39m\n\u001b[32m      9\u001b[39m pc.create_index(\n\u001b[32m     10\u001b[39m     name=index_name,\n\u001b[32m     11\u001b[39m     dimension=\u001b[32m384\u001b[39m,\n\u001b[32m   (...)\u001b[39m\u001b[32m     16\u001b[39m     )\n\u001b[32m     17\u001b[39m )\n",
      "\u001b[31mNameError\u001b[39m: name 'PINECONE_API_KEY' is not defined"
     ]
    }
   ],
   "source": [
    "from pinecone.grpc import PineconeGRPC as Pinecone\n",
    "from pinecone import ServerlessSpec\n",
    "import os\n",
    "\n",
    "pc = Pinecone(api_key=PINECONE_API_KEY)\n",
    "\n",
    "index_name = \"test\"\n",
    "\n",
    "pc.create_index(\n",
    "    name=index_name,\n",
    "    dimension=384,\n",
    "    metric=\"cosine\",\n",
    "    spec=ServerlessSpec(\n",
    "        cloud=\"aws\",\n",
    "        region=\"us-east-1\"\n",
    "    )\n",
    ")"
   ]
  },
  {
   "cell_type": "code",
   "execution_count": null,
   "id": "61d10dd8-296d-4ff5-aa9f-645ba7c398c3",
   "metadata": {},
   "outputs": [],
   "source": [
    " "
   ]
  }
 ],
 "metadata": {
  "kernelspec": {
   "display_name": "Python 3 (ipykernel)",
   "language": "python",
   "name": "python3"
  },
  "language_info": {
   "codemirror_mode": {
    "name": "ipython",
    "version": 3
   },
   "file_extension": ".py",
   "mimetype": "text/x-python",
   "name": "python",
   "nbconvert_exporter": "python",
   "pygments_lexer": "ipython3",
   "version": "3.11.13"
  }
 },
 "nbformat": 4,
 "nbformat_minor": 5
}
